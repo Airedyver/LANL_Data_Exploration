{
 "cells": [
  {
   "cell_type": "code",
   "execution_count": 7,
   "metadata": {},
   "outputs": [],
   "source": [
    "# Because the Auth.txt file is too big to place in databricks with its machine learning capabilities,\n",
    "#I created a new file that has auth.txt file I took a sample of every 40th line,\n",
    "#to get a good grasp of all the data since it is based on time. \n",
    "\n",
    "# Grab sample of data by the 40th line\n",
    "with open('auth.txt') as input_file:\n",
    "    with open('newsample.csv', 'w') as output_file:\n",
    "        output_file.write(\"Time,SourceUserDomain,DestinationUserDomain,SourceComputer,DestinationComputer,AuthenticationType,LogonType,AuthenticationOrientation,SuccessFailure\\n\")\n",
    "        x = 1\n",
    "        for line in input_file:\n",
    "            if x == 40:\n",
    "                output_file.write(line)\n",
    "                x = 1\n",
    "            else:\n",
    "                x += 1\n"
   ]
  },
  {
   "cell_type": "code",
   "execution_count": null,
   "metadata": {},
   "outputs": [],
   "source": []
  }
 ],
 "metadata": {
  "kernelspec": {
   "display_name": "Python 3",
   "language": "python",
   "name": "python3"
  },
  "language_info": {
   "codemirror_mode": {
    "name": "ipython",
    "version": 3
   },
   "file_extension": ".py",
   "mimetype": "text/x-python",
   "name": "python",
   "nbconvert_exporter": "python",
   "pygments_lexer": "ipython3",
   "version": "3.6.5"
  }
 },
 "nbformat": 4,
 "nbformat_minor": 2
}
