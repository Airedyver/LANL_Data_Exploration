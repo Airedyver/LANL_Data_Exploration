{
 "cells": [
  {
   "cell_type": "code",
   "execution_count": 8,
   "metadata": {},
   "outputs": [],
   "source": [
    "## This was an attempt to get a unique id for both the authorization and red team table. \n",
    "#This did not make it into my final sample because when I ran the new table in databricks \n",
    "#for a sanity check I found that when I grouped the data the ID was not unique to both sets. \n",
    "#I found that there was not enough data on the red team to make it unique, and if I just added\n",
    "#a numeric ID to the AUthorization table, I would not be able to join the data that I wanted. \n",
    "\n",
    "#import dependencies\n",
    "\n",
    "from pyspark.sql import functions as sf\n",
    "from pyspark.sql import SparkSession\n",
    "from pyspark.sql.types import StructType,StructField,IntegerType,StringType,BooleanType\n",
    "\n",
    "spark = SparkSession.builder.appName(\"sample authorization table\").getOrCreate()"
   ]
  },
  {
   "cell_type": "code",
   "execution_count": null,
   "metadata": {},
   "outputs": [],
   "source": [
    "#Since there isn't a schema for the data we need to manually create it from the information we got from LANL\n",
    "#Got this from https://www.youtube.com/watch?v=K14plpZgy_c approx 19:45\n",
    "\n",
    "\n",
    "# Read in data and store in dataframe using authSchema\n",
    "df = spark.read.csv(\"sample3.txt\",inferSchema=True).toDF(\"Time\",\"SourceUserDomain\",\"DestinationUserDomain\",\n",
    "                                                        \"SourceComputer\",\"DestinationComputer\",\"AuthenticationType\",\n",
    "                                                        \"LogonType\",\"AuthenticationOrientation\",\"SuccessFailure\")"
   ]
  },
  {
   "cell_type": "code",
   "execution_count": 10,
   "metadata": {},
   "outputs": [
    {
     "name": "stdout",
     "output_type": "stream",
     "text": [
      "root\n",
      " |-- Time: integer (nullable = true)\n",
      " |-- SourceUserDomain: string (nullable = true)\n",
      " |-- DestinationUserDomain: string (nullable = true)\n",
      " |-- SourceComputer: string (nullable = true)\n",
      " |-- DestinationComputer: string (nullable = true)\n",
      " |-- AuthenticationType: string (nullable = true)\n",
      " |-- LogonType: string (nullable = true)\n",
      " |-- AuthenticationOrientation: string (nullable = true)\n",
      " |-- SuccessFailure: string (nullable = true)\n",
      "\n"
     ]
    }
   ],
   "source": [
    "df.printSchema()"
   ]
  },
  {
   "cell_type": "code",
   "execution_count": 11,
   "metadata": {},
   "outputs": [
    {
     "name": "stdout",
     "output_type": "stream",
     "text": [
      "+----+--------------------+---------------------+--------------+-------------------+------------------+---------+-------------------------+--------------+\n",
      "|Time|    SourceUserDomain|DestinationUserDomain|SourceComputer|DestinationComputer|AuthenticationType|LogonType|AuthenticationOrientation|SuccessFailure|\n",
      "+----+--------------------+---------------------+--------------+-------------------+------------------+---------+-------------------------+--------------+\n",
      "|   1|ANONYMOUS LOGON@C586| ANONYMOUS LOGON@C586|         C1250|               C586|              NTLM|  Network|                    LogOn|       Success|\n",
      "|   1|ANONYMOUS LOGON@C586| ANONYMOUS LOGON@C586|          C586|               C586|                 ?|  Network|                   LogOff|       Success|\n",
      "|   1|          C101$@DOM1|           C101$@DOM1|          C988|               C988|                 ?|  Network|                   LogOff|       Success|\n",
      "|   1|         C1020$@DOM1|         SYSTEM@C1020|         C1020|              C1020|         Negotiate|  Service|                    LogOn|       Success|\n",
      "|   1|         C1021$@DOM1|          C1021$@DOM1|         C1021|               C625|          Kerberos|  Network|                    LogOn|       Success|\n",
      "+----+--------------------+---------------------+--------------+-------------------+------------------+---------+-------------------------+--------------+\n",
      "only showing top 5 rows\n",
      "\n"
     ]
    }
   ],
   "source": [
    "#Jupyter notebook\n",
    "df.show(5)"
   ]
  },
  {
   "cell_type": "code",
   "execution_count": 19,
   "metadata": {},
   "outputs": [
    {
     "name": "stdout",
     "output_type": "stream",
     "text": [
      "+----+--------------------+---------------------+--------------+-------------------+------------------+---------+-------------------------+--------------+-----------+\n",
      "|Time|    SourceUserDomain|DestinationUserDomain|SourceComputer|DestinationComputer|AuthenticationType|LogonType|AuthenticationOrientation|SuccessFailure|         ID|\n",
      "+----+--------------------+---------------------+--------------+-------------------+------------------+---------+-------------------------+--------------+-----------+\n",
      "|   1|ANONYMOUS LOGON@C586| ANONYMOUS LOGON@C586|         C1250|               C586|              NTLM|  Network|                    LogOn|       Success| 1C586C1250|\n",
      "|   1|ANONYMOUS LOGON@C586| ANONYMOUS LOGON@C586|          C586|               C586|                 ?|  Network|                   LogOff|       Success|  1C586C586|\n",
      "|   1|          C101$@DOM1|           C101$@DOM1|          C988|               C988|                 ?|  Network|                   LogOff|       Success|  1C988C988|\n",
      "|   1|         C1020$@DOM1|         SYSTEM@C1020|         C1020|              C1020|         Negotiate|  Service|                    LogOn|       Success|1C1020C1020|\n",
      "|   1|         C1021$@DOM1|          C1021$@DOM1|         C1021|               C625|          Kerberos|  Network|                    LogOn|       Success| 1C625C1021|\n",
      "|   1|         C1035$@DOM1|          C1035$@DOM1|         C1035|               C586|          Kerberos|  Network|                    LogOn|       Success| 1C586C1035|\n",
      "|   1|         C1035$@DOM1|          C1035$@DOM1|          C586|               C586|                 ?|  Network|                   LogOff|       Success|  1C586C586|\n",
      "|   1|         C1069$@DOM1|         SYSTEM@C1069|         C1069|              C1069|         Negotiate|  Service|                    LogOn|       Success|1C1069C1069|\n",
      "|   1|         C1085$@DOM1|          C1085$@DOM1|         C1085|               C612|          Kerberos|  Network|                    LogOn|       Success| 1C612C1085|\n",
      "|   1|         C1085$@DOM1|          C1085$@DOM1|          C612|               C612|                 ?|  Network|                   LogOff|       Success|  1C612C612|\n",
      "|   1|         C1151$@DOM1|         SYSTEM@C1151|         C1151|              C1151|         Negotiate|  Service|                    LogOn|       Success|1C1151C1151|\n",
      "|   1|         C1154$@DOM1|         SYSTEM@C1154|         C1154|              C1154|         Negotiate|  Service|                    LogOn|       Success|1C1154C1154|\n",
      "|   1|         C1164$@DOM1|          C1164$@DOM1|          C625|               C625|                 ?|  Network|                   LogOff|       Success|  1C625C625|\n",
      "|   1|          C119$@DOM1|           C119$@DOM1|          C119|               C528|          Kerberos|  Network|                    LogOn|       Success|  1C528C119|\n",
      "|   1|         C1218$@DOM1|          C1218$@DOM1|         C1218|               C529|          Kerberos|  Network|                    LogOn|       Success| 1C529C1218|\n",
      "|   1|         C1235$@DOM1|          C1235$@DOM1|          C586|               C586|                 ?|  Network|                   LogOff|       Success|  1C586C586|\n",
      "|   1|         C1241$@DOM1|         SYSTEM@C1241|         C1241|              C1241|         Negotiate|  Service|                    LogOn|       Success|1C1241C1241|\n",
      "|   1|         C1250$@DOM1|          C1250$@DOM1|         C1250|               C586|          Kerberos|  Network|                    LogOn|       Success| 1C586C1250|\n",
      "|   1|         C1314$@DOM1|          C1314$@DOM1|         C1314|               C467|          Kerberos|  Network|                    LogOn|       Success| 1C467C1314|\n",
      "|   1|          C144$@DOM1|          SYSTEM@C144|          C144|               C144|         Negotiate|  Service|                    LogOn|       Success|  1C144C144|\n",
      "+----+--------------------+---------------------+--------------+-------------------+------------------+---------+-------------------------+--------------+-----------+\n",
      "only showing top 20 rows\n",
      "\n"
     ]
    }
   ],
   "source": [
    "df = df.withColumn('ID', sf.concat(sf.col('Time'),sf.col('DestinationComputer'), sf.col('SourceComputer'))).drop('joined_column')\n",
    "\n",
    "\n",
    "df.show()"
   ]
  },
  {
   "cell_type": "code",
   "execution_count": 25,
   "metadata": {},
   "outputs": [],
   "source": [
    "#write df to csv\n",
    "df.write.csv('sampleclean.csv')"
   ]
  },
  {
   "cell_type": "code",
   "execution_count": 23,
   "metadata": {},
   "outputs": [],
   "source": [
    "rdf = spark.read.csv(\"redteam.txt\", header=True, inferSchema=True).toDF(\"Time\",\"UserDomain\",\"SourceComputer\",\"DestinationComputer\")"
   ]
  },
  {
   "cell_type": "code",
   "execution_count": 28,
   "metadata": {},
   "outputs": [
    {
     "name": "stdout",
     "output_type": "stream",
     "text": [
      "+------+----------+--------------+-------------------+-----------------+-------+\n",
      "|  Time|UserDomain|SourceComputer|DestinationComputer|               ID|redteam|\n",
      "+------+----------+--------------+-------------------+-----------------+-------+\n",
      "|151036| U748@DOM1|        C17693|               C305| 151036C305C17693|   true|\n",
      "|151648| U748@DOM1|        C17693|               C728| 151648C728C17693|   true|\n",
      "|151993|U6115@DOM1|        C17693|              C1173|151993C1173C17693|   true|\n",
      "|153792| U636@DOM1|        C17693|               C294| 153792C294C17693|   true|\n",
      "|155219| U748@DOM1|        C17693|              C5693|155219C5693C17693|   true|\n",
      "|155399| U748@DOM1|        C17693|               C152| 155399C152C17693|   true|\n",
      "|155460| U748@DOM1|        C17693|              C2341|155460C2341C17693|   true|\n",
      "|155591| U748@DOM1|        C17693|               C332| 155591C332C17693|   true|\n",
      "|156658| U748@DOM1|        C17693|              C4280|156658C4280C17693|   true|\n",
      "|210086| U748@DOM1|        C18025|              C1493|210086C1493C18025|   true|\n",
      "|210294| U748@DOM1|        C18025|              C1493|210294C1493C18025|   true|\n",
      "|210312| U748@DOM1|        C18025|              C1493|210312C1493C18025|   true|\n",
      "|218418| U748@DOM1|        C17693|               C504| 218418C504C17693|   true|\n",
      "|227052| U748@DOM1|        C17693|               C148| 227052C148C17693|   true|\n",
      "|227408| U748@DOM1|        C17693|               C148| 227408C148C17693|   true|\n",
      "|227520| U748@DOM1|        C17693|               C148| 227520C148C17693|   true|\n",
      "|227780| U748@DOM1|        C17693|               C148| 227780C148C17693|   true|\n",
      "|228024| U748@DOM1|        C17693|               C148| 228024C148C17693|   true|\n",
      "|228150| U748@DOM1|        C17693|               C148| 228150C148C17693|   true|\n",
      "|228642|U1723@DOM1|        C17693|               C231| 228642C231C17693|   true|\n",
      "+------+----------+--------------+-------------------+-----------------+-------+\n",
      "only showing top 20 rows\n",
      "\n"
     ]
    }
   ],
   "source": [
    "from pyspark.sql.functions import lit\n",
    "rdf = rdf.withColumn('ID', sf.concat(sf.col('Time'),sf.col('DestinationComputer'), sf.col('SourceComputer'))).withColumn(\"redteam\", lit(True))\n",
    "rdf.show()"
   ]
  },
  {
   "cell_type": "code",
   "execution_count": 26,
   "metadata": {},
   "outputs": [],
   "source": [
    "#write rdf to csv\n",
    "rdf.write.csv('redsampleclean.csv')"
   ]
  }
 ],
 "metadata": {
  "kernelspec": {
   "display_name": "Python 3",
   "language": "python",
   "name": "python3"
  },
  "language_info": {
   "codemirror_mode": {
    "name": "ipython",
    "version": 3
   },
   "file_extension": ".py",
   "mimetype": "text/x-python",
   "name": "python",
   "nbconvert_exporter": "python",
   "pygments_lexer": "ipython3",
   "version": "3.6.5"
  }
 },
 "nbformat": 4,
 "nbformat_minor": 2
}
